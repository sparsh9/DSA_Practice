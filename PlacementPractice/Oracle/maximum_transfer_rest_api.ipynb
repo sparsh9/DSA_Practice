{
    "cells": [
        {
            "cell_type": "code",
            "execution_count": 2,
            "metadata": {},
            "outputs": [],
            "source": [
                "# Use the HTTP GET method to retrieve information from a database of patient medical records.\n",
                "\n",
                "import requests\n",
                "import json"
            ]
        },
        {
            "cell_type": "code",
            "execution_count": 57,
            "metadata": {},
            "outputs": [],
            "source": [
                "def get_transactions(name,city,page=1):\n",
                "    url = f\"https://jsonmock.hackerrank.com/api/transactions?page={page}\"\n",
                "    response = requests.get(url)\n",
                "    data = response.json()\n",
                "    total_pages = data[\"total_pages\"]\n",
                "    transactions = data.get(\"data\", [])\n",
                "    # return data\n",
                "    # filter data on basis of name and city\n",
                "    filtered_transactions = list(filter(lambda x: x[\"userName\"] == name and x[\"location\"][\"city\"] == city, transactions))\n",
                "    return filtered_transactions, total_pages\n",
                "\n",
                "\n",
                "\n",
                "def transfer_amount(name,city):\n",
                "    credit = 0\n",
                "    debit = 0\n",
                "    page = 1\n",
                "    _,total_pages = get_transactions(name,city,page)\n",
                "\n",
                "    for page in range(1,total_pages+1):\n",
                "        transactions,_ = get_transactions(name,city,page)\n",
                "        for transaction in transactions:\n",
                "            if transaction[\"txnType\"] == \"debit\":\n",
                "                debit = max(debit, float(transaction[\"amount\"].replace(\"$\",\"\").replace(\",\",\"\")))\n",
                "            elif transaction[\"txnType\"] == \"credit\":\n",
                "                credit = max(credit, float(transaction[\"amount\"].replace(\"$\",\"\").replace(\",\",\"\")))\n",
                "\n",
                "    return [f\"${credit :,.2f}\", f\"${debit :,.2f}\"]            \n"
            ]
        },
        {
            "cell_type": "code",
            "execution_count": 58,
            "metadata": {},
            "outputs": [
                {
                    "name": "stdout",
                    "output_type": "stream",
                    "text": [
                        "['$3,717.84', '$3,568.55']\n"
                    ]
                }
            ],
            "source": [
                "# Test case\n",
                "name = \"Bob Martin\"\n",
                "city = \"Bourg\"\n",
                "result = transfer_amount(name, city)\n",
                "print(result)"
            ]
        }
    ],
    "metadata": {
        "kernelspec": {
            "display_name": "Python 3",
            "language": "python",
            "name": "python3"
        },
        "language_info": {
            "codemirror_mode": {
                "name": "ipython",
                "version": 3
            },
            "file_extension": ".py",
            "mimetype": "text/x-python",
            "name": "python",
            "nbconvert_exporter": "python",
            "pygments_lexer": "ipython3",
            "version": "3.10.8"
        },
        "orig_nbformat": 4
    },
    "nbformat": 4,
    "nbformat_minor": 2
}
